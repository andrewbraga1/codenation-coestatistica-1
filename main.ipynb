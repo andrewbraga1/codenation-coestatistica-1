{
 "cells": [
  {
   "cell_type": "code",
   "execution_count": 324,
   "metadata": {},
   "outputs": [],
   "source": [
    "import pandas as pd\n",
    "import numpy as np\n"
   ]
  },
  {
   "cell_type": "markdown",
   "metadata": {},
   "source": [
    "## Inicie da análise a partir daqui"
   ]
  },
  {
   "cell_type": "code",
   "execution_count": 325,
   "metadata": {},
   "outputs": [],
   "source": [
    "df = pd.read_csv(\"desafio1.csv\")"
   ]
  },
  {
   "cell_type": "code",
   "execution_count": 281,
   "metadata": {},
   "outputs": [
    {
     "output_type": "stream",
     "name": "stdout",
     "text": "<class 'pandas.core.frame.DataFrame'>\nRangeIndex: 7000 entries, 0 to 6999\nData columns (total 12 columns):\n #   Column                    Non-Null Count  Dtype  \n---  ------                    --------------  -----  \n 0   RowNumber                 7000 non-null   int64  \n 1   id                        7000 non-null   object \n 2   sobrenome                 7000 non-null   object \n 3   pontuacao_credito         7000 non-null   int64  \n 4   estado_residencia         7000 non-null   object \n 5   genero                    7000 non-null   object \n 6   idade                     7000 non-null   int64  \n 7   nivel_estabilidade        7000 non-null   int64  \n 8   saldo_conta               7000 non-null   float64\n 9   numero_produtos           7000 non-null   int64  \n 10  possui_cartao_de_credito  7000 non-null   int64  \n 11  membro_ativo              7000 non-null   int64  \ndtypes: float64(1), int64(7), object(4)\nmemory usage: 656.4+ KB\n"
    }
   ],
   "source": [
    "# first approach over dataset\n",
    "df.info()\n",
    "\n",
    "    \n"
   ]
  },
  {
   "cell_type": "code",
   "execution_count": 376,
   "metadata": {},
   "outputs": [
    {
     "output_type": "execute_result",
     "data": {
      "text/plain": "850.0"
     },
     "metadata": {},
     "execution_count": 376
    }
   ],
   "source": [
    "#df_analyse = pd.DataFrame(df.groupby('estado_residencia')['pontuacao_credito'].describe())\n",
    "#df_analyse.median().iloc[0]\n",
    "# df_analyse['median'] = (df.groupby('estado_residencia')['pontuacao_credito'].median())\n",
    "# df_analyse\n",
    "# df_analyse.iloc[index]['median']\n",
    "df_analyse.iloc[index]['max']"
   ]
  },
  {
   "cell_type": "code",
   "execution_count": 378,
   "metadata": {},
   "outputs": [],
   "source": [
    "import json\n",
    "\n",
    "data = {}\n",
    "df_analyse = pd.DataFrame(df.groupby('estado_residencia')['pontuacao_credito'].describe())\n",
    "df_analyse['median'] = (df.groupby('estado_residencia')['pontuacao_credito'].median())\n",
    "\n",
    "\n",
    "\n",
    "\n",
    "list_uf = list(df_analyse.index)\n",
    "\n",
    "for index,uf in enumerate(list_uf):\n",
    "    \n",
    "    data[uf] = {\n",
    "        \"moda\": df_analyse.iloc[index]['max'],\n",
    "        \"media\": df_analyse.iloc[index]['mean'],\n",
    "        \"desvio_padrao\": df_analyse.iloc[index]['std'],\n",
    "        \"mediana\": df_analyse.iloc[index]['median']\n",
    "    }\n",
    "with open('submission.json', 'w') as json_file: \n",
    "    json.dump(data, json_file)\n",
    "    \n",
    "\n",
    "    "
   ]
  }
 ],
 "metadata": {
  "kernelspec": {
   "display_name": "Python 3.8.3 64-bit ('aceleradev_ds': conda)",
   "language": "python",
   "name": "python38364bitaceleradevdscondaa6fa780d429d4d56b32ce851ef88909f"
  },
  "language_info": {
   "codemirror_mode": {
    "name": "ipython",
    "version": 3
   },
   "file_extension": ".py",
   "mimetype": "text/x-python",
   "name": "python",
   "nbconvert_exporter": "python",
   "pygments_lexer": "ipython3",
   "version": "3.8.3-final"
  }
 },
 "nbformat": 4,
 "nbformat_minor": 2
}